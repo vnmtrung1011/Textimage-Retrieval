{
  "cells": [
    {
      "cell_type": "code",
      "execution_count": null,
      "metadata": {
        "id": "t0vmsLHAooJy"
      },
      "outputs": [],
      "source": [
        "!gdown 1msLVo0g0LFmL9-qZ73vq9YEVZwbzOePF"
      ]
    },
    {
      "cell_type": "code",
      "execution_count": null,
      "metadata": {
        "id": "1Og405g2ookM"
      },
      "outputs": [],
      "source": [
        "!unzip data"
      ]
    },
    {
      "cell_type": "code",
      "execution_count": null,
      "metadata": {
        "id": "bBuHb_Wwrb_w",
        "scrolled": true
      },
      "outputs": [],
      "source": [
        "%pip install chromadb\n",
        "%pip install open-clip-torch"
      ]
    },
    {
      "cell_type": "code",
      "execution_count": null,
      "metadata": {
        "id": "kz-yarG-rb_0"
      },
      "outputs": [],
      "source": [
        "import os\n",
        "import chromadb\n",
        "import numpy as np\n",
        "from tqdm import tqdm\n",
        "from PIL import Image\n",
        "import matplotlib.pyplot as plt\n",
        "from chromadb.utils.embedding_functions import OpenCLIPEmbeddingFunction"
      ]
    },
    {
      "cell_type": "markdown",
      "metadata": {
        "id": "Cm6ziaahrb_2"
      },
      "source": [
        "## Get Data"
      ]
    },
    {
      "cell_type": "markdown",
      "metadata": {
        "id": "2pdZbeLprb_3"
      },
      "source": [
        "Tạo list các đường dẫn cho ảnh lấy embedding và được đưa vào database"
      ]
    },
    {
      "cell_type": "markdown",
      "metadata": {
        "id": "9G_uaMKCrb_4"
      },
      "source": [
        "dic_categories change to class_name"
      ]
    },
    {
      "cell_type": "code",
      "execution_count": null,
      "metadata": {
        "id": "h_De7yplrb_4"
      },
      "outputs": [],
      "source": [
        "ROOT = 'data'\n",
        "CLASS_NAME = sorted(list(os.listdir(f'{ROOT}/train')))\n",
        "HNSW_SPACE = \"hnsw:space\"\n"
      ]
    },
    {
      "cell_type": "code",
      "execution_count": null,
      "metadata": {
        "id": "fPN-C2Ivrb_5"
      },
      "outputs": [],
      "source": [
        "def get_files_path(path):\n",
        "    files_path = []\n",
        "    for label in CLASS_NAME:\n",
        "        label_path = path + \"/\" + label\n",
        "        filenames = os.listdir(label_path)\n",
        "        for filename in filenames:\n",
        "            filepath = label_path + '/' + filename\n",
        "            files_path.append(filepath)\n",
        "    return files_path"
      ]
    },
    {
      "cell_type": "code",
      "execution_count": null,
      "metadata": {
        "id": "-nKNZ0Errb_6",
        "scrolled": true
      },
      "outputs": [],
      "source": [
        "data_path = f'{ROOT}/train'\n",
        "files_path = get_files_path(path=data_path)\n",
        "files_path"
      ]
    },
    {
      "cell_type": "code",
      "execution_count": null,
      "metadata": {
        "id": "zBkBDMTarb_7"
      },
      "outputs": [],
      "source": [
        "def plot_results(image_path, files_path, results):\n",
        "    query_image = Image.open(image_path).resize((448,448))\n",
        "    images = [query_image]\n",
        "    class_name = []\n",
        "    for id_img in results['ids'][0]:\n",
        "        id_img = int(id_img.split('_')[-1])\n",
        "        img_path = files_path[id_img]\n",
        "        img = Image.open(img_path).resize((448,448))\n",
        "        images.append(img)\n",
        "        class_name.append(img_path.split('/')[2])\n",
        "\n",
        "    fig, axes = plt.subplots(2, 3, figsize=(12, 8))\n",
        "\n",
        "    # Iterate through images and plot them\n",
        "    for i, ax in enumerate(axes.flat):\n",
        "        ax.imshow(images[i])\n",
        "        if i == 0:\n",
        "            ax.set_title(f\"Query Image: {image_path.split('/')[2]}\")\n",
        "        else:\n",
        "            ax.set_title(f\"Top {i+1}: {class_name[i-1]}\")\n",
        "        ax.axis('off')  # Hide axes\n",
        "    # Display the plot\n",
        "    plt.show()"
      ]
    },
    {
      "cell_type": "markdown",
      "metadata": {
        "id": "TAphwXeArb_9"
      },
      "source": [
        "## Image Embedding"
      ]
    },
    {
      "cell_type": "code",
      "execution_count": null,
      "metadata": {
        "id": "jUei2mZhrb_9"
      },
      "outputs": [],
      "source": [
        "embedding_function = OpenCLIPEmbeddingFunction()\n",
        "\n",
        "def get_single_image_embedding(image):\n",
        "    embedding = embedding_function._encode_image(image=np.array(image))\n",
        "    return embedding"
      ]
    },
    {
      "cell_type": "code",
      "execution_count": null,
      "metadata": {
        "id": "hQqAe79arb_-",
        "scrolled": true
      },
      "outputs": [],
      "source": [
        "img = Image.open('data/train/African_crocodile/n01697457_260.JPEG')\n",
        "get_single_image_embedding(image=img)"
      ]
    },
    {
      "cell_type": "markdown",
      "metadata": {
        "id": "CzD7mJUOrb_-"
      },
      "source": [
        "## Chromadb L2 Embedding Collection"
      ]
    },
    {
      "cell_type": "markdown",
      "metadata": {
        "id": "Kdl8_-bvrb_-"
      },
      "source": [
        "Tạo embedding collection từ các đường dẫn file ảnh data ở bước trên"
      ]
    },
    {
      "cell_type": "code",
      "execution_count": null,
      "metadata": {
        "id": "O3A-Ok9erb_-"
      },
      "outputs": [],
      "source": [
        "def add_embedding(collection, files_path):\n",
        "    ids = []\n",
        "    embeddings = []\n",
        "    for id_filepath, filepath in tqdm(enumerate(files_path)):\n",
        "        ids.append(f'id_{id_filepath}')\n",
        "        image = Image.open(filepath)\n",
        "        embedding = get_single_image_embedding(image=image)\n",
        "        embeddings.append(embedding)\n",
        "    collection.add(\n",
        "        embeddings=embeddings,\n",
        "        ids=ids\n",
        "    )"
      ]
    },
    {
      "cell_type": "code",
      "execution_count": null,
      "metadata": {
        "id": "12KENOpZrb__"
      },
      "outputs": [],
      "source": [
        "# Create a Chroma Client\n",
        "chroma_client = chromadb.Client()\n",
        "# Create a collection\n",
        "l2_collection = chroma_client.get_or_create_collection(name=\"l2_collection\",\n",
        "                                                           metadata={HNSW_SPACE: \"l2\"})\n",
        "add_embedding(collection=l2_collection, files_path=files_path)"
      ]
    },
    {
      "cell_type": "markdown",
      "metadata": {
        "id": "HmA1RzXbrb__"
      },
      "source": [
        "## Search Image With L2 Collection"
      ]
    },
    {
      "cell_type": "code",
      "execution_count": null,
      "metadata": {
        "id": "8TQbGdTrrb__"
      },
      "outputs": [],
      "source": [
        "def search(image_path, collection, n_results):\n",
        "    query_image = Image.open(image_path)\n",
        "    query_embedding = get_single_image_embedding(query_image)\n",
        "    results = collection.query(\n",
        "        query_embeddings=[query_embedding],\n",
        "        n_results=n_results # how many results to return\n",
        "    )\n",
        "    return results"
      ]
    },
    {
      "cell_type": "code",
      "execution_count": null,
      "metadata": {
        "id": "H6P74dQrrb__"
      },
      "outputs": [],
      "source": [
        "test_path = f'{ROOT}/test'\n",
        "test_files_path = get_files_path(path=test_path)\n",
        "test_path = test_files_path[1]\n",
        "l2_results = search(image_path=test_path, collection=l2_collection, n_results=5)"
      ]
    },
    {
      "cell_type": "code",
      "execution_count": null,
      "metadata": {
        "id": "vt-blJ2Orb__"
      },
      "outputs": [],
      "source": [
        "l2_results"
      ]
    },
    {
      "cell_type": "code",
      "execution_count": null,
      "metadata": {
        "id": "xO6HRQRPrcAA"
      },
      "outputs": [],
      "source": [
        "plot_results(image_path=test_path, files_path=files_path, results=l2_results)"
      ]
    },
    {
      "cell_type": "markdown",
      "metadata": {
        "id": "mGtn9SS3rcAA"
      },
      "source": [
        "## Search Image With Cosine similarity Collection"
      ]
    },
    {
      "cell_type": "code",
      "execution_count": null,
      "metadata": {
        "id": "NwEk26rRrcAA"
      },
      "outputs": [],
      "source": [
        "# Create a collection\n",
        "cosine_collection = chroma_client.get_or_create_collection(name=\"Cosine_collection\",\n",
        "                                                           metadata={HNSW_SPACE: \"cosine\"})\n",
        "add_embedding(collection=cosine_collection, files_path=files_path)"
      ]
    },
    {
      "cell_type": "code",
      "execution_count": null,
      "metadata": {
        "id": "_5BrrHE1rcAA"
      },
      "outputs": [],
      "source": [
        "test_path = f'{ROOT}/test'\n",
        "test_files_path = get_files_path(path=test_path)\n",
        "test_path = test_files_path[1]\n",
        "cosine_results = search(image_path=test_path, collection=cosine_collection, n_results=5)"
      ]
    },
    {
      "cell_type": "code",
      "execution_count": null,
      "metadata": {
        "id": "RCtPHCOIrcAA"
      },
      "outputs": [],
      "source": [
        "cosine_results"
      ]
    },
    {
      "cell_type": "code",
      "execution_count": null,
      "metadata": {
        "id": "8D9wylXfrcAA"
      },
      "outputs": [],
      "source": [
        "plot_results(image_path=test_path, files_path=files_path, results=cosine_results)"
      ]
    }
  ],
  "metadata": {
    "accelerator": "GPU",
    "colab": {
      "gpuType": "T4",
      "provenance": []
    },
    "kernelspec": {
      "display_name": "Python 3",
      "name": "python3"
    },
    "language_info": {
      "codemirror_mode": {
        "name": "ipython",
        "version": 3
      },
      "file_extension": ".py",
      "mimetype": "text/x-python",
      "name": "python",
      "nbconvert_exporter": "python",
      "pygments_lexer": "ipython3",
      "version": "3.10.14"
    }
  },
  "nbformat": 4,
  "nbformat_minor": 0
}
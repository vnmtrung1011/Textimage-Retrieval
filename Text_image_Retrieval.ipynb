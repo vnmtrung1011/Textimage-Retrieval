{
  "nbformat": 4,
  "nbformat_minor": 0,
  "metadata": {
    "colab": {
      "provenance": []
    },
    "kernelspec": {
      "name": "python3",
      "display_name": "Python 3"
    },
    "language_info": {
      "name": "python"
    }
  },
  "cells": [
    {
      "cell_type": "code",
      "execution_count": null,
      "metadata": {
        "id": "eqq-EP-PcFjn"
      },
      "outputs": [],
      "source": [
        "!gdown 1msLVo0g0LFmL9-qZ73vq9YEVZwbzOePF"
      ]
    },
    {
      "cell_type": "code",
      "source": [
        "!unzip data"
      ],
      "metadata": {
        "id": "7_Ghl4gvdNSY"
      },
      "execution_count": null,
      "outputs": []
    },
    {
      "cell_type": "code",
      "source": [
        "import os\n",
        "import numpy as np\n",
        "from PIL import Image\n",
        "import matplotlib.pyplot as plt"
      ],
      "metadata": {
        "id": "ycY4nOSJdQ07"
      },
      "execution_count": null,
      "outputs": []
    },
    {
      "cell_type": "markdown",
      "source": [
        "**Get Data**"
      ],
      "metadata": {
        "id": "YBfj2oD8dex8"
      }
    },
    {
      "cell_type": "code",
      "source": [
        "ROOT = 'data'\n",
        "CLASS_NAME = sorted(list(os.listdir(f'{ROOT}/train')))"
      ],
      "metadata": {
        "id": "BkSEbhUQdix8"
      },
      "execution_count": null,
      "outputs": []
    },
    {
      "cell_type": "code",
      "source": [
        "def read_image_from_path(path, size):\n",
        "  im = Image.open(path).convert('RGB').resize(size)\n",
        "  return np.array(im)\n",
        "\n",
        "def folder_to_images(folder, size):\n",
        "    list_dir = [folder + '/' + name for name in os.listdir(folder)]\n",
        "    images_np = np.zeros(shape=(len(list_dir), *size, 3))\n",
        "    images_path = []\n",
        "    for i, path in enumerate(list_dir):\n",
        "        images_np[i] = read_image_from_path(path, size)\n",
        "        images_path.append(path)\n",
        "    images_path = np.array(images_path)\n",
        "    return images_np, images_path"
      ],
      "metadata": {
        "id": "SWOnzJZ_e75M"
      },
      "execution_count": null,
      "outputs": []
    },
    {
      "cell_type": "code",
      "source": [
        "def plot_results(querquery_pathy, ls_path_score, reverse):\n",
        "    fig = plt.figure(figsize=(15, 9))\n",
        "    fig.add_subplot(2, 3, 1)\n",
        "    plt.imshow(read_image_from_path(querquery_pathy, size=(448,448)))\n",
        "    plt.title(f\"Query Image: {querquery_pathy.split('/')[2]}\", fontsize=16)\n",
        "    plt.axis(\"off\")\n",
        "    for i, path in enumerate(sorted(ls_path_score, key=lambda x : x[1], reverse=reverse)[:5], 2):\n",
        "        fig.add_subplot(2, 3, i)\n",
        "        plt.imshow(read_image_from_path(path[0], size=(448,448)))\n",
        "        plt.title(f\"Top {i-1}: {path[0].split('/')[2]}\", fontsize=16)\n",
        "        plt.axis(\"off\")\n",
        "    plt.show()"
      ],
      "metadata": {
        "id": "52pUiuX0lae1"
      },
      "execution_count": null,
      "outputs": []
    },
    {
      "cell_type": "markdown",
      "source": [
        "## Absolute Difference"
      ],
      "metadata": {
        "id": "qqcaqf08lcLc"
      }
    },
    {
      "cell_type": "code",
      "source": [
        "def absolute_difference(query, data):\n",
        "  axis_batch_size = tuple(1, len(data.shape))\n",
        "  return np.sum(np.abs(data - query), axis = axis_batch_size)"
      ],
      "metadata": {
        "id": "j6tmB_-ylk_C"
      },
      "execution_count": null,
      "outputs": []
    },
    {
      "cell_type": "code",
      "source": [
        "def get_l1_score(root_img_path, query_path, size):\n",
        "    query = read_image_from_path(query_path, size)\n",
        "    ls_path_score = []\n",
        "    for folder in os.listdir(root_img_path):\n",
        "        if folder in CLASS_NAME:\n",
        "            path = root_img_path + folder\n",
        "            images_np, images_path = folder_to_images(path, size) # mang numpy nhieu anh, paths\n",
        "            rates = absolute_difference(query, images_np)\n",
        "            ls_path_score.extend(list(zip(images_path, rates)))\n",
        "    return query, ls_path_score"
      ],
      "metadata": {
        "id": "ZjyEvy6LHotf"
      },
      "execution_count": null,
      "outputs": []
    },
    {
      "cell_type": "code",
      "source": [
        "root_img_path = f\"{ROOT}/train/\"\n",
        "query_path = f\"{ROOT}/test/Orange_easy/0_100.jpg\"\n",
        "size = (448, 448)\n",
        "query, ls_path_score = get_l1_score(root_img_path, query_path, size)\n",
        "plot_results(query_path, ls_path_score, reverse=False)"
      ],
      "metadata": {
        "id": "ujKngdJgHqh9"
      },
      "execution_count": null,
      "outputs": []
    },
    {
      "cell_type": "code",
      "source": [
        "ls_path_score"
      ],
      "metadata": {
        "id": "xGzWh2lrH4ff"
      },
      "execution_count": null,
      "outputs": []
    },
    {
      "cell_type": "code",
      "source": [
        "root_img_path = f\"{ROOT}/train/\"\n",
        "query_path = f\"{ROOT}/test/African_crocodile/n01697457_18534.JPEG\"\n",
        "size = (448, 448)\n",
        "query, ls_path_score = get_l1_score(root_img_path, query_path, size)\n",
        "plot_results(query_path, ls_path_score, reverse=False)"
      ],
      "metadata": {
        "id": "PEXKmQWFH6PX"
      },
      "execution_count": null,
      "outputs": []
    },
    {
      "cell_type": "markdown",
      "source": [
        "## Mean Square Difference"
      ],
      "metadata": {
        "id": "BWtY3KHCHw14"
      }
    },
    {
      "cell_type": "code",
      "source": [
        "def mean_square_difference(query, data):\n",
        "    axis_batch_size = tuple(range(1,len(data.shape)))\n",
        "    return np.mean((data - query)**2, axis=axis_batch_size)"
      ],
      "metadata": {
        "id": "NX3lWymcH_GN"
      },
      "execution_count": null,
      "outputs": []
    },
    {
      "cell_type": "code",
      "source": [
        "def get_l2_score(root_img_path, query_path, size):\n",
        "    query = read_image_from_path(query_path, size)\n",
        "    ls_path_score = []\n",
        "    for folder in os.listdir(root_img_path):\n",
        "        if folder in CLASS_NAME:\n",
        "            path = root_img_path + folder\n",
        "            images_np, images_path = folder_to_images(path, size) # mang numpy nhieu anh, paths\n",
        "            rates = mean_square_difference(query, images_np)\n",
        "            ls_path_score.extend(list(zip(images_path, rates)))\n",
        "    return query, ls_path_score"
      ],
      "metadata": {
        "id": "4gcO-2OrIBYg"
      },
      "execution_count": null,
      "outputs": []
    },
    {
      "cell_type": "code",
      "source": [
        "root_img_path = f\"{ROOT}/train/\"\n",
        "query_path = f\"{ROOT}/test/Orange_easy/0_100.jpg\"\n",
        "size = (448, 448)\n",
        "query, ls_path_score = get_l2_score(root_img_path, query_path, size)\n",
        "plot_results(query_path, ls_path_score, reverse=False)"
      ],
      "metadata": {
        "id": "J3c7fhg8IDLr"
      },
      "execution_count": null,
      "outputs": []
    },
    {
      "cell_type": "code",
      "source": [
        "root_img_path = f\"{ROOT}/train/\"\n",
        "query_path = f\"{ROOT}/test/African_crocodile/n01697457_18534.JPEG\"\n",
        "size = (448, 448)\n",
        "query, ls_path_score = get_l2_score(root_img_path, query_path, size)\n",
        "plot_results(query_path, ls_path_score, reverse=False)"
      ],
      "metadata": {
        "id": "s5uOfMOpIEwR"
      },
      "execution_count": null,
      "outputs": []
    },
    {
      "cell_type": "code",
      "source": [
        "ls_path_score"
      ],
      "metadata": {
        "id": "vH-12xrtIGJQ"
      },
      "execution_count": null,
      "outputs": []
    },
    {
      "cell_type": "markdown",
      "source": [
        "## Cosine Similarity"
      ],
      "metadata": {
        "id": "7Qldy3eSILFZ"
      }
    },
    {
      "cell_type": "code",
      "source": [
        "def cosine_similarity(query, data):\n",
        "    axis_batch_size = tuple(range(1,len(data.shape)))\n",
        "    # Ứng dụng norm\n",
        "    query_norm = np.sqrt(np.sum(query**2))\n",
        "    data_norm = np.sqrt(np.sum(data**2, axis=axis_batch_size))\n",
        "    return np.sum(data * query, axis=axis_batch_size) / (query_norm*data_norm + np.finfo(float).eps)"
      ],
      "metadata": {
        "id": "anNpw2NYINGd"
      },
      "execution_count": 1,
      "outputs": []
    },
    {
      "cell_type": "code",
      "source": [
        "def get_cosine_similarity_score(root_img_path, query_path, size):\n",
        "    query = read_image_from_path(query_path, size)\n",
        "    ls_path_score = []\n",
        "    for folder in os.listdir(root_img_path):\n",
        "        if folder in CLASS_NAME:\n",
        "            path = root_img_path + folder\n",
        "            images_np, images_path = folder_to_images(path, size) # mang numpy nhieu anh, paths\n",
        "            rates = cosine_similarity(query, images_np)\n",
        "            ls_path_score.extend(list(zip(images_path, rates)))\n",
        "    return query, ls_path_score"
      ],
      "metadata": {
        "id": "HPlDyCS_IOWh"
      },
      "execution_count": null,
      "outputs": []
    },
    {
      "cell_type": "code",
      "source": [
        "root_img_path = f\"{ROOT}/train/\"\n",
        "query_path = f\"{ROOT}/test/Orange_easy/0_100.jpg\"\n",
        "size = (448, 448)\n",
        "query, ls_path_score = get_cosine_similarity_score(root_img_path, query_path, size)\n",
        "plot_results(query_path, ls_path_score, reverse=True)"
      ],
      "metadata": {
        "id": "FQJvoKsiIS9w"
      },
      "execution_count": null,
      "outputs": []
    },
    {
      "cell_type": "code",
      "source": [
        "root_img_path =f\"{ROOT}/train/\"\n",
        "query_path = f\"{ROOT}/test/African_crocodile/n01697457_18534.JPEG\"\n",
        "size = (448, 448)\n",
        "query, ls_path_score = get_cosine_similarity_score(root_img_path, query_path, size)\n",
        "plot_results(query_path, ls_path_score, reverse=True)"
      ],
      "metadata": {
        "id": "FvpVRrZyIUDB"
      },
      "execution_count": null,
      "outputs": []
    },
    {
      "cell_type": "code",
      "source": [
        "ls_path_score"
      ],
      "metadata": {
        "id": "EuW22MoyIVKc"
      },
      "execution_count": null,
      "outputs": []
    },
    {
      "cell_type": "markdown",
      "source": [
        "## Correlation Coefficient"
      ],
      "metadata": {
        "id": "tbNe5979Ibn9"
      }
    },
    {
      "cell_type": "code",
      "source": [
        "def correlation_coefficient(query, data):\n",
        "    axis_batch_size = tuple(range(1,len(data.shape)))\n",
        "    query_mean = query - np.mean(query)\n",
        "    data_mean = data - np.mean(data, axis=axis_batch_size, keepdims=True)\n",
        "    query_norm = np.sqrt(np.sum(query_mean**2))\n",
        "    data_norm = np.sqrt(np.sum(data_mean**2, axis=axis_batch_size))\n",
        "\n",
        "    return np.sum(data_mean * query_mean, axis=axis_batch_size) / (query_norm*data_norm + np.finfo(float).eps)"
      ],
      "metadata": {
        "id": "fwtYcz_FIeJV"
      },
      "execution_count": null,
      "outputs": []
    },
    {
      "cell_type": "code",
      "source": [
        "def get_correlation_coefficient_score(root_img_path, query_path, size):\n",
        "    query = read_image_from_path(query_path, size)\n",
        "    ls_path_score = []\n",
        "    for folder in os.listdir(root_img_path):\n",
        "        if folder in CLASS_NAME:\n",
        "            path = root_img_path + folder\n",
        "            images_np, images_path = folder_to_images(path, size) # mang numpy nhieu anh, paths\n",
        "            rates = correlation_coefficient(query, images_np)\n",
        "            ls_path_score.extend(list(zip(images_path, rates)))\n",
        "    return query, ls_path_score"
      ],
      "metadata": {
        "id": "NB_5c8rFIeMT"
      },
      "execution_count": null,
      "outputs": []
    },
    {
      "cell_type": "code",
      "source": [
        "root_img_path = f\"{ROOT}/train/\"\n",
        "query_path = f\"{ROOT}/test/Orange_easy/0_100.jpg\"\n",
        "size = (448, 448)\n",
        "query, ls_path_score = get_correlation_coefficient_score(root_img_path, query_path, size)\n",
        "plot_results(query_path, ls_path_score, reverse=True)"
      ],
      "metadata": {
        "id": "U-_L0cOiIi71"
      },
      "execution_count": null,
      "outputs": []
    },
    {
      "cell_type": "code",
      "source": [
        "root_img_path =f\"{ROOT}/train/\"\n",
        "query_path = f\"{ROOT}/test/African_crocodile/n01697457_18534.JPEG\"\n",
        "size = (448, 448)\n",
        "query, ls_path_score = get_correlation_coefficient_score(root_img_path, query_path, size)\n",
        "plot_results(query_path, ls_path_score, reverse=True)"
      ],
      "metadata": {
        "id": "iPC1Omz6IlTC"
      },
      "execution_count": null,
      "outputs": []
    }
  ]
}
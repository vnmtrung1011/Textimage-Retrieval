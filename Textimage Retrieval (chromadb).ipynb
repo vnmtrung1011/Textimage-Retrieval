{
  "cells": [
    {
      "cell_type": "code",
      "execution_count": null,
      "metadata": {
        "id": "s-AOV2VJZPqF"
      },
      "outputs": [],
      "source": [
        "!gdown 1msLVo0g0LFmL9-qZ73vq9YEVZwbzOePF"
      ]
    },
    {
      "cell_type": "code",
      "execution_count": null,
      "metadata": {
        "collapsed": true,
        "id": "unSXTOk6b4Oi"
      },
      "outputs": [],
      "source": [
        "!unzip data"
      ]
    },
    {
      "cell_type": "code",
      "execution_count": null,
      "metadata": {
        "id": "-iyYhy3Ii6b1"
      },
      "outputs": [],
      "source": [
        "%pip install chromadb\n",
        "%pip install open-clip-torch"
      ]
    },
    {
      "cell_type": "code",
      "execution_count": null,
      "metadata": {
        "id": "memxic6hONjA"
      },
      "outputs": [],
      "source": [
        "import os\n",
        "import numpy as np\n",
        "from PIL import Image\n",
        "import matplotlib.pyplot as plt\n",
        "from chromadb.utils.embedding_functions import OpenCLIPEmbeddingFunction\n"
      ]
    },
    {
      "cell_type": "markdown",
      "metadata": {
        "id": "nZ5HaBauONjB"
      },
      "source": [
        "## Get Data"
      ]
    },
    {
      "cell_type": "markdown",
      "metadata": {
        "id": "W2mTy6buONjC"
      },
      "source": [
        "Tạo list các đường dẫn cho ảnh lấy embedding và được đưa vào database"
      ]
    },
    {
      "cell_type": "markdown",
      "metadata": {
        "id": "rw8iG7siONjC"
      },
      "source": [
        "dic_categories change to class_name"
      ]
    },
    {
      "cell_type": "code",
      "execution_count": null,
      "metadata": {
        "id": "cOVJmVaXONjC"
      },
      "outputs": [],
      "source": [
        "ROOT = 'data'\n",
        "CLASS_NAME = sorted(list(os.listdir(f'{ROOT}/train')))"
      ]
    },
    {
      "cell_type": "code",
      "execution_count": null,
      "metadata": {
        "id": "suVH6StoONjD"
      },
      "outputs": [],
      "source": [
        "embedding_function = OpenCLIPEmbeddingFunction()\n",
        "\n",
        "def get_single_image_embedding(image):\n",
        "    embedding = embedding_function._encode_image(image=image)\n",
        "    return np.array(embedding)"
      ]
    },
    {
      "cell_type": "code",
      "execution_count": null,
      "metadata": {
        "id": "KYk_2D1CONjD"
      },
      "outputs": [],
      "source": [
        "def read_image_from_path(path, size):\n",
        "    im = Image.open(path).convert('RGB').resize(size)\n",
        "    return np.array(im)\n",
        "\n",
        "# MODIFY\n",
        "def folder_to_images(folder, size):\n",
        "\n",
        "    list_dir = [folder + '/' + name for name in os.listdir(folder)]\n",
        "\n",
        "    images_np = np.zeros(shape=(len(list_dir), *size, 3))\n",
        "    images_path = []\n",
        "    for i, path in enumerate(list_dir):\n",
        "        images_np[i] = read_image_from_path(path, size)\n",
        "        images_path.append(path)\n",
        "\n",
        "    images_path = np.array(images_path)\n",
        "    return images_np, images_path"
      ]
    },
    {
      "cell_type": "code",
      "execution_count": null,
      "metadata": {
        "id": "H1EJ0FLZONjE"
      },
      "outputs": [],
      "source": [
        "def plot_results(querquery_pathy, ls_path_score, reverse):\n",
        "    fig = plt.figure(figsize=(15, 9))\n",
        "    fig.add_subplot(2, 3, 1)\n",
        "    plt.imshow(read_image_from_path(querquery_pathy, size=(448,448)))\n",
        "    plt.title(f\"Query Image: {querquery_pathy.split('/')[2]}\", fontsize=16)\n",
        "    plt.axis(\"off\")\n",
        "    for i, path in enumerate(sorted(ls_path_score, key=lambda x : x[1], reverse=reverse)[:5], 2):\n",
        "        fig.add_subplot(2, 3, i)\n",
        "        plt.imshow(read_image_from_path(path[0], size=(448,448)))\n",
        "        plt.title(f\"Top {i-1}: {path[0].split('/')[2]}\", fontsize=16)\n",
        "        plt.axis(\"off\")\n",
        "    plt.show()"
      ]
    },
    {
      "cell_type": "markdown",
      "metadata": {
        "id": "YCYQ1u9nONjE"
      },
      "source": [
        "## Absolute Difference"
      ]
    },
    {
      "cell_type": "code",
      "execution_count": null,
      "metadata": {
        "id": "YN_ccDGEONjE"
      },
      "outputs": [],
      "source": [
        "def absolute_difference(query, data):\n",
        "    axis_batch_size = tuple(range(1,len(data.shape)))\n",
        "    return np.sum(np.abs(data - query), axis=axis_batch_size)"
      ]
    },
    {
      "cell_type": "code",
      "execution_count": null,
      "metadata": {
        "id": "Qe5A5MhjONjF"
      },
      "outputs": [],
      "source": [
        "def get_l1_score(root_img_path, query_path, size):\n",
        "    query = read_image_from_path(query_path, size)\n",
        "    query_embedding = get_single_image_embedding(query)\n",
        "    ls_path_score = []\n",
        "    for folder in os.listdir(root_img_path):\n",
        "        if folder in CLASS_NAME:\n",
        "            path = root_img_path + folder\n",
        "            images_np, images_path = folder_to_images(path, size) # mang numpy nhieu anh, paths\n",
        "            embedding_list = []\n",
        "            for idx_img in range(images_np.shape[0]):\n",
        "                embedding = get_single_image_embedding(images_np[idx_img].astype(np.uint8))\n",
        "                embedding_list.append(embedding)\n",
        "            rates = absolute_difference(query_embedding, np.stack(embedding_list))\n",
        "            ls_path_score.extend(list(zip(images_path, rates)))\n",
        "    return query, ls_path_score"
      ]
    },
    {
      "cell_type": "code",
      "execution_count": null,
      "metadata": {
        "id": "KI4ZBgmafcF4"
      },
      "outputs": [],
      "source": [
        "root_img_path = f\"{ROOT}/train/\"\n",
        "query_path = f\"{ROOT}/test/Orange_easy/0_100.jpg\"\n",
        "size = (448, 448)\n",
        "query, ls_path_score = get_l1_score(root_img_path, query_path, size)\n",
        "plot_results(query_path, ls_path_score, reverse=False)"
      ]
    },
    {
      "cell_type": "code",
      "execution_count": null,
      "metadata": {
        "id": "3eAGsg-aONjF"
      },
      "outputs": [],
      "source": [
        "root_img_path = f\"{ROOT}/train/\"\n",
        "query_path = f\"{ROOT}/test/African_crocodile/n01697457_18534.JPEG\"\n",
        "size = (448, 448)\n",
        "query, ls_path_score = get_l1_score(root_img_path, query_path, size)\n",
        "plot_results(query_path, ls_path_score, reverse=False)"
      ]
    },
    {
      "cell_type": "code",
      "execution_count": null,
      "metadata": {
        "id": "Ypvpf7YoONjH",
        "scrolled": true
      },
      "outputs": [],
      "source": [
        "sorted(ls_path_score, key=lambda x: x[1])"
      ]
    },
    {
      "cell_type": "markdown",
      "metadata": {
        "id": "5XUkzwz2ONjH"
      },
      "source": [
        "## Mean Square Difference"
      ]
    },
    {
      "cell_type": "code",
      "execution_count": null,
      "metadata": {
        "id": "79kGsWx2ONjH"
      },
      "outputs": [],
      "source": [
        "def mean_square_difference(query, data):\n",
        "    axis_batch_size = tuple(range(1,len(data.shape)))\n",
        "    return np.mean((data - query)**2, axis=axis_batch_size)"
      ]
    },
    {
      "cell_type": "code",
      "execution_count": null,
      "metadata": {
        "id": "HTwHs68AONjI"
      },
      "outputs": [],
      "source": [
        "def get_l2_score(root_img_path, query_path, size):\n",
        "    query = read_image_from_path(query_path, size)\n",
        "    query_embedding = get_single_image_embedding(query)\n",
        "    ls_path_score = []\n",
        "    for folder in os.listdir(root_img_path):\n",
        "        if folder in CLASS_NAME:\n",
        "            path = root_img_path + folder\n",
        "            images_np, images_path = folder_to_images(path, size) # mang numpy nhieu anh, paths\n",
        "            embedding_list = []\n",
        "            for idx_img in range(images_np.shape[0]):\n",
        "                embedding = get_single_image_embedding(images_np[idx_img].astype(np.uint8))\n",
        "                embedding_list.append(embedding)\n",
        "            rates = mean_square_difference(query_embedding, np.stack(embedding_list))\n",
        "            ls_path_score.extend(list(zip(images_path, rates)))\n",
        "    return query, ls_path_score"
      ]
    },
    {
      "cell_type": "code",
      "execution_count": null,
      "metadata": {
        "id": "ObLfWk6NfdVB"
      },
      "outputs": [],
      "source": [
        "root_img_path = f\"{ROOT}/train/\"\n",
        "query_path = f\"{ROOT}/test/Orange_easy/0_100.jpg\"\n",
        "size = (448, 448)\n",
        "query, ls_path_score = get_l2_score(root_img_path, query_path, size)\n",
        "plot_results(query_path, ls_path_score, reverse=False)"
      ]
    },
    {
      "cell_type": "code",
      "execution_count": null,
      "metadata": {
        "id": "wptzuLsOONjI"
      },
      "outputs": [],
      "source": [
        "root_img_path = f\"{ROOT}/train/\"\n",
        "query_path = f\"{ROOT}/test/African_crocodile/n01697457_18534.JPEG\"\n",
        "size = (448, 448)\n",
        "query, ls_path_score = get_l2_score(root_img_path, query_path, size)\n",
        "plot_results(query_path, ls_path_score, reverse=False)"
      ]
    },
    {
      "cell_type": "code",
      "execution_count": null,
      "metadata": {
        "id": "HdOLIqnVONjI",
        "scrolled": true
      },
      "outputs": [],
      "source": [
        "sorted(ls_path_score, key=lambda x: x[1])"
      ]
    },
    {
      "cell_type": "markdown",
      "metadata": {
        "id": "SanJw2XcONjI"
      },
      "source": [
        "## Cosine Similarity"
      ]
    },
    {
      "cell_type": "code",
      "execution_count": null,
      "metadata": {
        "id": "dvrcmI2cONjI"
      },
      "outputs": [],
      "source": [
        "def cosine_similarity(query, data):\n",
        "    axis_batch_size = tuple(range(1,len(data.shape)))\n",
        "    # Ứng dụng norm\n",
        "    query_norm = np.sqrt(np.sum(query**2))\n",
        "    data_norm = np.sqrt(np.sum(data**2, axis=axis_batch_size))\n",
        "    return np.sum(data * query, axis=axis_batch_size) / (query_norm*data_norm + np.finfo(float).eps)"
      ]
    },
    {
      "cell_type": "code",
      "execution_count": null,
      "metadata": {
        "id": "3EY-0otEONjI"
      },
      "outputs": [],
      "source": [
        "def get_cosine_similarity_score(root_img_path, query_path, size):\n",
        "    query = read_image_from_path(query_path, size)\n",
        "    query_embedding = get_single_image_embedding(query)\n",
        "    ls_path_score = []\n",
        "    for folder in os.listdir(root_img_path):\n",
        "        if folder in CLASS_NAME:\n",
        "            path = root_img_path + folder\n",
        "            images_np, images_path = folder_to_images(path, size) # mang numpy nhieu anh, paths\n",
        "            embedding_list = []\n",
        "            for idx_img in range(images_np.shape[0]):\n",
        "                embedding = get_single_image_embedding(images_np[idx_img].astype(np.uint8))\n",
        "                embedding_list.append(embedding)\n",
        "            rates = cosine_similarity(query_embedding, np.stack(embedding_list))\n",
        "            ls_path_score.extend(list(zip(images_path, rates)))\n",
        "    return query, ls_path_score"
      ]
    },
    {
      "cell_type": "code",
      "execution_count": null,
      "metadata": {
        "id": "Mwd_1q2cfe6L"
      },
      "outputs": [],
      "source": [
        "root_img_path = f\"{ROOT}/train/\"\n",
        "query_path = f\"{ROOT}/test/Orange_easy/0_100.jpg\"\n",
        "size = (448, 448)\n",
        "query, ls_path_score = get_cosine_similarity_score(root_img_path, query_path, size)\n",
        "plot_results(query_path, ls_path_score, reverse=True)"
      ]
    },
    {
      "cell_type": "code",
      "execution_count": null,
      "metadata": {
        "id": "TUPiyxNHONjI"
      },
      "outputs": [],
      "source": [
        "root_img_path = f\"{ROOT}/train/\"\n",
        "query_path = f\"{ROOT}/test/African_crocodile/n01697457_18534.JPEG\"\n",
        "size = (448, 448)\n",
        "query, ls_path_score = get_cosine_similarity_score(root_img_path, query_path, size)\n",
        "plot_results(query_path, ls_path_score, reverse=True)"
      ]
    },
    {
      "cell_type": "code",
      "execution_count": null,
      "metadata": {
        "id": "IRAPtpl9ONjJ",
        "scrolled": true
      },
      "outputs": [],
      "source": [
        "sorted(ls_path_score, key=lambda x: x[1], reverse=True)"
      ]
    },
    {
      "cell_type": "markdown",
      "metadata": {
        "id": "1FOlIl9gONjJ"
      },
      "source": [
        "## Correlation Coefficient"
      ]
    },
    {
      "cell_type": "code",
      "execution_count": null,
      "metadata": {
        "id": "zLjBw0bcONjJ"
      },
      "outputs": [],
      "source": [
        "def correlation_coefficient(query, data):\n",
        "    axis_batch_size = tuple(range(1,len(data.shape)))\n",
        "\n",
        "    # Ứng dụng mean\n",
        "    query_mean = query - np.mean(query)\n",
        "    data_mean = data - np.mean(data, axis=axis_batch_size, keepdims=True)\n",
        "\n",
        "    # Ứng dụng norm\n",
        "    query_norm = np.sqrt(np.sum(query_mean**2))\n",
        "    data_norm = np.sqrt(np.sum(data_mean**2, axis=axis_batch_size))\n",
        "\n",
        "    return np.sum(data_mean * query_mean, axis=axis_batch_size) / (query_norm*data_norm + np.finfo(float).eps)"
      ]
    },
    {
      "cell_type": "code",
      "execution_count": null,
      "metadata": {
        "id": "gBHlQ9Z-ONjJ"
      },
      "outputs": [],
      "source": [
        "def get_correlation_coefficient_score(root_img_path, query_path, size):\n",
        "    query = read_image_from_path(query_path, size)\n",
        "    query_embedding = get_single_image_embedding(query)\n",
        "    ls_path_score = []\n",
        "    for folder in os.listdir(root_img_path):\n",
        "        if folder in CLASS_NAME:\n",
        "            path = root_img_path + folder\n",
        "            images_np, images_path = folder_to_images(path, size) # mang numpy nhieu anh, paths\n",
        "            embedding_list = []\n",
        "            for idx_img in range(images_np.shape[0]):\n",
        "                embedding = get_single_image_embedding(images_np[idx_img].astype(np.uint8))\n",
        "                embedding_list.append(embedding)\n",
        "            rates = correlation_coefficient(query_embedding, np.stack(embedding_list))\n",
        "            ls_path_score.extend(list(zip(images_path, rates)))\n",
        "    return query, ls_path_score"
      ]
    },
    {
      "cell_type": "code",
      "execution_count": null,
      "metadata": {
        "id": "MFagW6yNfgK_"
      },
      "outputs": [],
      "source": [
        "root_img_path = \"data/train/\"\n",
        "query_path = \"data/test/Orange_easy/0_100.jpg\"\n",
        "size = (448, 448)\n",
        "query, ls_path_score = get_correlation_coefficient_score(root_img_path, query_path, size)\n",
        "plot_results(query_path, ls_path_score, reverse=True)"
      ]
    },
    {
      "cell_type": "code",
      "execution_count": null,
      "metadata": {
        "id": "BCSaERUbONjJ"
      },
      "outputs": [],
      "source": [
        "root_img_path = \"data/train/\"\n",
        "query_path = \"data/test/African_crocodile/n01697457_18534.JPEG\"\n",
        "size = (448, 448)\n",
        "query, ls_path_score = get_correlation_coefficient_score(root_img_path, query_path, size)\n",
        "plot_results(query_path, ls_path_score, reverse=True)"
      ]
    },
    {
      "cell_type": "code",
      "execution_count": null,
      "metadata": {
        "id": "bbPQgVemONjJ"
      },
      "outputs": [],
      "source": [
        "sorted(ls_path_score, key=lambda x: x[1], reverse=True)"
      ]
    },
    {
      "cell_type": "code",
      "source": [],
      "metadata": {
        "id": "KHRSlQgqbUji"
      },
      "execution_count": null,
      "outputs": []
    }
  ],
  "metadata": {
    "accelerator": "GPU",
    "colab": {
      "gpuType": "T4",
      "provenance": []
    },
    "kernelspec": {
      "display_name": "Python 3",
      "name": "python3"
    },
    "language_info": {
      "codemirror_mode": {
        "name": "ipython",
        "version": 3
      },
      "file_extension": ".py",
      "mimetype": "text/x-python",
      "name": "python",
      "nbconvert_exporter": "python",
      "pygments_lexer": "ipython3",
      "version": "3.10.14"
    }
  },
  "nbformat": 4,
  "nbformat_minor": 0
}